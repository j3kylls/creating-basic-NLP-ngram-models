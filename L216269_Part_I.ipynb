{
 "cells": [
  {
   "cell_type": "markdown",
   "metadata": {},
   "source": [
    "21L-6269            EESHA TARIQ             BSDS8B"
   ]
  },
  {
   "cell_type": "code",
   "execution_count": 24,
   "metadata": {},
   "outputs": [],
   "source": [
    "import nltk, re, pprint\n",
    "from nltk import word_tokenize\n",
    "from nltk.tokenize import RegexpTokenizer\n",
    "from nltk.stem import PorterStemmer, LancasterStemmer\n",
    "from urllib import request\n",
    "import requests\n",
    "from bs4 import BeautifulSoup"
   ]
  },
  {
   "cell_type": "markdown",
   "metadata": {},
   "source": [
    "---"
   ]
  },
  {
   "cell_type": "markdown",
   "metadata": {},
   "source": [
    "**Q1) Describe the class of strings matched by the following regular expressions.**\n",
    "\n",
    "a. [a-zA-Z]+ --- *all words in the document*\n",
    "\n",
    "b. [A-Z][a-z]* --- *all words in the document starting with captial A-Z*\n",
    "\n",
    "c. p[aeiou]{,2}t --- *no clue*\n",
    "\n",
    "d. \\d+(\\.\\d+)? --- *all numerical values in the document*\n",
    "\n",
    "e. ([^aeiou][aeiou][^aeiou])* --- *what ????*\n",
    "\n",
    "f. \\w+|[^\\w\\s]+ --- *all words, numbers & punctuations in the document*"
   ]
  },
  {
   "cell_type": "code",
   "execution_count": 3,
   "metadata": {},
   "outputs": [],
   "source": [
    "test_string = \"\"\"50 years of eBooks 1971-2021. In 2021, Project Gutenberg celebrated the first eBook for reading enjoyment and unlimited free redistribution. This eBook was created on July 4, 1971 by Project Gutenberg’s founder, Michael S. Hart. Read more about this lasting innovation. Project Gutenberg is grateful to all volunteers who helped to reach this milestone anniversary. Project Gutenberg offers a vibrant and growing collection of the world’s great literature. Read, enjoy, and share!\"\"\""
   ]
  },
  {
   "cell_type": "code",
   "execution_count": 4,
   "metadata": {},
   "outputs": [],
   "source": [
    "q1 = [\"[a-zA-Z]+\", \"[A-Z][a-z]*\", \"p[aeiou]{,2}t\", \"\\d+(\\.\\d+)?\", \"([^aeiou][aeiou][^aeiou])*\", \"\\w+|[^\\w\\s]+]\"]"
   ]
  },
  {
   "cell_type": "code",
   "execution_count": 5,
   "metadata": {},
   "outputs": [
    {
     "name": "stdout",
     "output_type": "stream",
     "text": [
      "1 [a-zA-Z]+\n",
      "50 {years} {of} {eBooks} 1971-2021. {In} 2021, {Project} {Gutenberg} {celebrated} {the} {first} {eBook} {for} {reading} {enjoyment} {and} {unlimited} {free} {redistribution}. {This} {eBook} {was} {created} {on} {July} 4, 1971 {by} {Project} {Gutenberg}’{s} {founder}, {Michael} {S}. {Hart}. {Read} {more} {about} {this} {lasting} {innovation}. {Project} {Gutenberg} {is} {grateful} {to} {all} {volunteers} {who} {helped} {to} {reach} {this} {milestone} {anniversary}. {Project} {Gutenberg} {offers} {a} {vibrant} {and} {growing} {collection} {of} {the} {world}’{s} {great} {literature}. {Read}, {enjoy}, {and} {share}!\n",
      "---\n",
      "2 [A-Z][a-z]*\n",
      "50 years of e{Books} 1971-2021. {In} 2021, {Project} {Gutenberg} celebrated the first e{Book} for reading enjoyment and unlimited free redistribution. {This} e{Book} was created on {July} 4, 1971 by {Project} {Gutenberg}’s founder, {Michael} {S}. {Hart}. {Read} more about this lasting innovation. {Project} {Gutenberg} is grateful to all volunteers who helped to reach this milestone anniversary. {Project} {Gutenberg} offers a vibrant and growing collection of the world’s great literature. {Read}, enjoy, and share!\n",
      "---\n",
      "3 p[aeiou]{,2}t\n",
      "50 years of eBooks 1971-2021. In 2021, Project Gutenberg celebrated the first eBook for reading enjoyment and unlimited free redistribution. This eBook was created on July 4, 1971 by Project Gutenberg’s founder, Michael S. Hart. Read more about this lasting innovation. Project Gutenberg is grateful to all volunteers who helped to reach this milestone anniversary. Project Gutenberg offers a vibrant and growing collection of the world’s great literature. Read, enjoy, and share!\n",
      "---\n",
      "4 \\d+(\\.\\d+)?\n",
      "{50} years of eBooks {1971}-{2021}. In {2021}, Project Gutenberg celebrated the first eBook for reading enjoyment and unlimited free redistribution. This eBook was created on July {4}, {1971} by Project Gutenberg’s founder, Michael S. Hart. Read more about this lasting innovation. Project Gutenberg is grateful to all volunteers who helped to reach this milestone anniversary. Project Gutenberg offers a vibrant and growing collection of the world’s great literature. Read, enjoy, and share!\n",
      "---\n",
      "5 ([^aeiou][aeiou][^aeiou])*\n",
      "{}5{}0{} {}y{}e{}a{}r{}s{ of eB}{}o{}o{}k{}s{} {}1{}9{}7{}1{}-{}2{}0{}2{}1{}.{} {}I{}n{} {}2{}0{}2{}1{},{} {}P{roj}{}e{}c{}t{} {Gut}{}e{}n{ber}{}g{} {cel}{}e{}b{rat}{}e{}d{} {}t{he fir}{}s{}t{ eB}{}o{}o{}k{} {for}{} {}r{}e{}a{din}{}g{ enjoymen}{}t{ an}{}d{ unlim}{}i{ted}{} {}f{}r{}e{}e{} {red}{}i{}s{}t{rib}{}u{}t{}i{}o{}n{}.{} {}T{his eB}{}o{}o{}k{} {was}{} {}c{}r{}e{}a{ted on}{} {Jul}{}y{} {}4{},{} {}1{}9{}7{}1{} {}b{}y{} {}P{roj}{}e{}c{}t{} {Gut}{}e{}n{ber}{}g{}’{}s{} {}f{}o{}u{}n{der}{},{} {Mic}{}h{}a{}e{}l{} {}S{}.{} {Har}{}t{}.{} {}R{}e{}a{}d{} {mor}{}e{ ab}{}o{}u{}t{} {}t{his}{} {lastin}{}g{ innov}{}a{}t{}i{}o{}n{}.{} {}P{roj}{}e{}c{}t{} {Gut}{}e{}n{ber}{}g{ is}{} {}g{rat}{}e{ful}{} {to }{}a{}l{}l{} {vol}{}u{}n{}t{}e{}e{}r{}s{} {}w{ho helped}{} {to }{}r{}e{}a{}c{}h{} {}t{his}{} {mil}{}e{}s{ton}{}e{ anniv}{}e{}r{sar}{}y{}.{} {}P{roj}{}e{}c{}t{} {Gut}{}e{}n{ber}{}g{ offer}{}s{ a vibran}{}t{ an}{}d{} {}g{row}{}i{}n{}g{} {collec}{}t{}i{}o{}n{ of}{} {}t{he wor}{}l{}d{}’{}s{} {}g{}r{}e{}a{}t{} {lit}{}e{rat}{}u{re.}{} {}R{}e{}a{}d{},{ enjoy}{},{ an}{}d{} {}s{har}{}e{}!{}\n",
      "---\n",
      "6 \\w+|[^\\w\\s]+]\n",
      "{50} {years} {of} {eBooks} {1971}-{2021}. {In} {2021}, {Project} {Gutenberg} {celebrated} {the} {first} {eBook} {for} {reading} {enjoyment} {and} {unlimited} {free} {redistribution}. {This} {eBook} {was} {created} {on} {July} {4}, {1971} {by} {Project} {Gutenberg}’{s} {founder}, {Michael} {S}. {Hart}. {Read} {more} {about} {this} {lasting} {innovation}. {Project} {Gutenberg} {is} {grateful} {to} {all} {volunteers} {who} {helped} {to} {reach} {this} {milestone} {anniversary}. {Project} {Gutenberg} {offers} {a} {vibrant} {and} {growing} {collection} {of} {the} {world}’{s} {great} {literature}. {Read}, {enjoy}, {and} {share}!\n",
      "---\n"
     ]
    }
   ],
   "source": [
    "i = 1\n",
    "for exp in q1:\n",
    "    print(i, exp)\n",
    "    nltk.re_show(exp, test_string)\n",
    "    print(\"---\")\n",
    "    i+=1"
   ]
  },
  {
   "cell_type": "code",
   "execution_count": 6,
   "metadata": {},
   "outputs": [
    {
     "name": "stdout",
     "output_type": "stream",
     "text": [
      "{50} {years} {of} {eBooks} {1971}{-}{2021}{.} {In} {2021}{,} {Project} {Gutenberg} {celebrated} {the} {first} {eBook} {for} {reading} {enjoyment} {and} {unlimited} {free} {redistribution}{.} {This} {eBook} {was} {created} {on} {July} {4}{,} {1971} {by} {Project} {Gutenberg}{’}{s} {founder}{,} {Michael} {S}{.} {Hart}{.} {Read} {more} {about} {this} {lasting} {innovation}{.} {Project} {Gutenberg} {is} {grateful} {to} {all} {volunteers} {who} {helped} {to} {reach} {this} {milestone} {anniversary}{.} {Project} {Gutenberg} {offers} {a} {vibrant} {and} {growing} {collection} {of} {the} {world}{’}{s} {great} {literature}{.} {Read}{,} {enjoy}{,} {and} {share}{!}\n"
     ]
    }
   ],
   "source": [
    "nltk.re_show(\"\\w+|[^\\w\\s]+\", test_string)"
   ]
  },
  {
   "cell_type": "markdown",
   "metadata": {},
   "source": [
    "---"
   ]
  },
  {
   "cell_type": "markdown",
   "metadata": {},
   "source": [
    "**Q2) Write regular expressions to match the following classes of strings:**\n",
    "\n",
    "a. A single determiner (assume that a, an, and the are the only determiners).\n",
    "\n",
    "--- */[^a-zA-Z0-9][aA]n[^a-zA-Z0-9]|[^a-zA-Z0-9][aA][^a-zA-Z0-9]|[^a-zA-Z0-9][tT]he[^a-zA-Z0-9]/g*\n",
    "\n",
    "\n",
    "b. An arithmetic expression using integers, addition, and multiplication, such as 2*3+8.\n",
    "\n",
    "--- */(\\d+[\\\\+\\\\\\*])\\*\\d+/g*"
   ]
  },
  {
   "cell_type": "markdown",
   "metadata": {},
   "source": [
    "---"
   ]
  },
  {
   "cell_type": "code",
   "execution_count": 12,
   "metadata": {},
   "outputs": [],
   "source": [
    "def utilityFunction(url):\n",
    "    raw_content = request.urlopen(url).read().decode('utf8')\n",
    "    return(BeautifulSoup(raw_content, 'html.parser').get_text())\n"
   ]
  },
  {
   "cell_type": "code",
   "execution_count": 14,
   "metadata": {},
   "outputs": [
    {
     "data": {
      "text/plain": [
       "'\\n\\n\\n\\n\\n\\n\\n\\n\\n\\n\\n\\nPeople | MIT CSAIL\\n\\n\\n\\n\\n\\n\\n    Skip to main content\\n  \\n\\n\\n\\n\\n\\n\\n\\n\\n\\nFor Students\\n\\n\\nFor Industry\\n\\n\\nFor Members\\n\\n\\nAccessibility\\n\\n\\nLogin\\n\\n\\n\\n\\n\\n\\n\\n\\n\\n\\n\\n\\n\\n\\n\\n\\n\\n\\n\\n\\n\\n\\n\\n\\n\\nMIT CSAIL\\n\\n\\n\\n\\n\\nResearch\\n\\n\\nPeople\\n\\n\\nNews\\n\\n\\nEvents\\n\\n\\nSymposia\\n\\n\\nAbout\\n\\n\\n\\n\\n\\n\\n\\n\\n\\n\\n\\n\\n\\n\\nMIT LOGO\\nCreated with Sketch.\\n\\n\\n\\n\\n\\n\\n\\n\\n\\n\\n\\n\\n\\n\\n\\n\\n\\n\\n\\n\\n\\n\\n\\n\\nResearch\\n\\n\\nPeople\\n\\n\\nNews\\n\\n\\nEvents\\n\\n\\nSymposia\\n\\n\\nAbout\\n\\n\\n\\n\\n\\n\\n\\n\\nFor Students\\n\\n\\nFor Industry\\n\\n\\nFor Members\\n\\n\\nAccessibility\\n\\n\\nLogin\\n\\n\\n\\n\\n\\n\\n\\n\\nContact\\n\\n\\nPress Requests\\n\\n\\nAccessibility\\n\\n\\n\\n\\n\\n\\n\\n\\n\\n\\n\\nSearch\\n\\n\\n\\n\\n\\n\\n\\n\\n\\n\\n\\n\\n\\n\\n\\n\\n\\n\\n\\n\\n\\n\\n\\n\\n\\n\\n\\n\\n\\n\\nMIT CSAIL\\n\\n\\nMassachusetts Institute of Technology\\nComputer Science & Artificial Intelligence Laboratory\\n32 Vassar St, Cambridge MA 02139\\n\\n\\n\\n\\nContact\\n\\n\\nPress Requests\\n\\n\\nAccessibility\\n\\n\\n\\n\\n\\n\\n\\n\\n\\n\\n\\n\\n\\n\\n\\n\\n\\n\\n\\n\\n\\n\\n\\n\\n'"
      ]
     },
     "execution_count": 14,
     "metadata": {},
     "output_type": "execute_result"
    }
   ],
   "source": [
    "url = 'https://www.csail.mit.edu/people/'\n",
    "text = utilityFunction(url)\n",
    "text"
   ]
  },
  {
   "cell_type": "code",
   "execution_count": 15,
   "metadata": {},
   "outputs": [
    {
     "name": "stderr",
     "output_type": "stream",
     "text": [
      "[nltk_data] Downloading package punkt to\n",
      "[nltk_data]     C:\\Users\\Dell\\AppData\\Roaming\\nltk_data...\n",
      "[nltk_data]   Package punkt is already up-to-date!\n"
     ]
    },
    {
     "data": {
      "text/plain": [
       "True"
      ]
     },
     "execution_count": 15,
     "metadata": {},
     "output_type": "execute_result"
    }
   ],
   "source": [
    "nltk.download('punkt')"
   ]
  },
  {
   "cell_type": "code",
   "execution_count": 18,
   "metadata": {},
   "outputs": [
    {
     "data": {
      "text/plain": [
       "['755 108.5015',\n",
       " '167 117.1645',\n",
       " '743 104.1105',\n",
       " 'news@csail.mit.edu',\n",
       " 'news@csail.mit.edu']"
      ]
     },
     "execution_count": 18,
     "metadata": {},
     "output_type": "execute_result"
    }
   ],
   "source": [
    "url = 'https://www.csail.mit.edu/people/'\n",
    "content = requests.get(url)\n",
    "text = content.text\n",
    "tknzer = RegexpTokenizer(r'\\b[A-Za-z0-9._%+-]+@[A-Za-z0-9.-]+\\.[A-Z|a-z]{2,}\\b|\\b\\d{3}[-.\\s]?\\d{3}[-.\\s]?\\d{4}\\b')\n",
    "tokens = tknzer.tokenize(text)\n",
    "tokens"
   ]
  },
  {
   "cell_type": "code",
   "execution_count": 19,
   "metadata": {},
   "outputs": [],
   "source": [
    "phone = re.compile(r'\\b\\d{3}[-.\\s]?\\d{3}[-.\\s]?\\d{4}\\b')\n",
    "email = re.compile(r'[A-Za-z0-9._%+-]+\\@[a-z]+.[a-z.]*')"
   ]
  },
  {
   "cell_type": "code",
   "execution_count": 20,
   "metadata": {},
   "outputs": [],
   "source": [
    "phone_numbers = [match.group() for token in tokens for match in [phone.search(token)] if match]\n",
    "email_addresses = [match.group() for token in tokens for match in [email.search(token)] if match]"
   ]
  },
  {
   "cell_type": "code",
   "execution_count": 21,
   "metadata": {},
   "outputs": [
    {
     "name": "stdout",
     "output_type": "stream",
     "text": [
      "Phone Numbers:  ['755 108.5015', '167 117.1645', '743 104.1105']\n",
      "Email Addresses:  ['news@csail.mit.edu', 'news@csail.mit.edu']\n"
     ]
    }
   ],
   "source": [
    "print(\"Phone Numbers: \", phone_numbers)\n",
    "print(\"Email Addresses: \", email_addresses)"
   ]
  },
  {
   "cell_type": "markdown",
   "metadata": {},
   "source": [
    "---"
   ]
  },
  {
   "cell_type": "code",
   "execution_count": 23,
   "metadata": {},
   "outputs": [
    {
     "data": {
      "text/plain": [
       "['People',\n",
       " '|',\n",
       " 'MIT',\n",
       " 'CSAIL',\n",
       " 'Skip',\n",
       " 'to',\n",
       " 'main',\n",
       " 'content',\n",
       " 'For',\n",
       " 'Students',\n",
       " 'For',\n",
       " 'Industry',\n",
       " 'For',\n",
       " 'Members',\n",
       " 'Accessibility',\n",
       " 'Login',\n",
       " 'MIT',\n",
       " 'CSAIL',\n",
       " 'Research',\n",
       " 'People',\n",
       " 'News',\n",
       " 'Events',\n",
       " 'Symposia',\n",
       " 'About',\n",
       " 'MIT',\n",
       " 'LOGO',\n",
       " 'Created',\n",
       " 'with',\n",
       " 'Sketch',\n",
       " '.',\n",
       " 'Research',\n",
       " 'People',\n",
       " 'News',\n",
       " 'Events',\n",
       " 'Symposia',\n",
       " 'About',\n",
       " 'For',\n",
       " 'Students',\n",
       " 'For',\n",
       " 'Industry',\n",
       " 'For',\n",
       " 'Members',\n",
       " 'Accessibility',\n",
       " 'Login',\n",
       " 'Contact',\n",
       " 'Press',\n",
       " 'Requests',\n",
       " 'Accessibility',\n",
       " 'Search',\n",
       " 'MIT',\n",
       " 'CSAIL',\n",
       " 'Massachusetts',\n",
       " 'Institute',\n",
       " 'of',\n",
       " 'Technology',\n",
       " 'Computer',\n",
       " 'Science',\n",
       " '&',\n",
       " 'Artificial',\n",
       " 'Intelligence',\n",
       " 'Laboratory',\n",
       " '32',\n",
       " 'Vassar',\n",
       " 'St',\n",
       " ',',\n",
       " 'Cambridge',\n",
       " 'MA',\n",
       " '02139',\n",
       " 'Contact',\n",
       " 'Press',\n",
       " 'Requests',\n",
       " 'Accessibility']"
      ]
     },
     "execution_count": 23,
     "metadata": {},
     "output_type": "execute_result"
    }
   ],
   "source": [
    "new_tokens = nltk.word_tokenize(utilityFunction(url))\n",
    "new_tokens"
   ]
  },
  {
   "cell_type": "code",
   "execution_count": 26,
   "metadata": {},
   "outputs": [
    {
     "data": {
      "text/plain": [
       "['peopl',\n",
       " '|',\n",
       " 'mit',\n",
       " 'csail',\n",
       " 'skip',\n",
       " 'to',\n",
       " 'main',\n",
       " 'content',\n",
       " 'for',\n",
       " 'student',\n",
       " 'for',\n",
       " 'industri',\n",
       " 'for',\n",
       " 'member',\n",
       " 'access',\n",
       " 'login',\n",
       " 'mit',\n",
       " 'csail',\n",
       " 'research',\n",
       " 'peopl',\n",
       " 'new',\n",
       " 'event',\n",
       " 'symposia',\n",
       " 'about',\n",
       " 'mit',\n",
       " 'logo',\n",
       " 'creat',\n",
       " 'with',\n",
       " 'sketch',\n",
       " '.',\n",
       " 'research',\n",
       " 'peopl',\n",
       " 'new',\n",
       " 'event',\n",
       " 'symposia',\n",
       " 'about',\n",
       " 'for',\n",
       " 'student',\n",
       " 'for',\n",
       " 'industri',\n",
       " 'for',\n",
       " 'member',\n",
       " 'access',\n",
       " 'login',\n",
       " 'contact',\n",
       " 'press',\n",
       " 'request',\n",
       " 'access',\n",
       " 'search',\n",
       " 'mit',\n",
       " 'csail',\n",
       " 'massachusett',\n",
       " 'institut',\n",
       " 'of',\n",
       " 'technolog',\n",
       " 'comput',\n",
       " 'scienc',\n",
       " '&',\n",
       " 'artifici',\n",
       " 'intellig',\n",
       " 'laboratori',\n",
       " '32',\n",
       " 'vassar',\n",
       " 'st',\n",
       " ',',\n",
       " 'cambridg',\n",
       " 'ma',\n",
       " '02139',\n",
       " 'contact',\n",
       " 'press',\n",
       " 'request',\n",
       " 'access']"
      ]
     },
     "execution_count": 26,
     "metadata": {},
     "output_type": "execute_result"
    }
   ],
   "source": [
    "porterstemmer = PorterStemmer()\n",
    "stemmed = [porterstemmer.stem(token) for token in new_tokens]\n",
    "stemmed"
   ]
  },
  {
   "cell_type": "code",
   "execution_count": 27,
   "metadata": {},
   "outputs": [
    {
     "data": {
      "text/plain": [
       "['peopl',\n",
       " '|',\n",
       " 'mit',\n",
       " 'csail',\n",
       " 'skip',\n",
       " 'to',\n",
       " 'main',\n",
       " 'cont',\n",
       " 'for',\n",
       " 'stud',\n",
       " 'for',\n",
       " 'industry',\n",
       " 'for',\n",
       " 'memb',\n",
       " 'access',\n",
       " 'login',\n",
       " 'mit',\n",
       " 'csail',\n",
       " 'research',\n",
       " 'peopl',\n",
       " 'new',\n",
       " 'ev',\n",
       " 'sympos',\n",
       " 'about',\n",
       " 'mit',\n",
       " 'logo',\n",
       " 'cre',\n",
       " 'with',\n",
       " 'sketch',\n",
       " '.',\n",
       " 'research',\n",
       " 'peopl',\n",
       " 'new',\n",
       " 'ev',\n",
       " 'sympos',\n",
       " 'about',\n",
       " 'for',\n",
       " 'stud',\n",
       " 'for',\n",
       " 'industry',\n",
       " 'for',\n",
       " 'memb',\n",
       " 'access',\n",
       " 'login',\n",
       " 'contact',\n",
       " 'press',\n",
       " 'request',\n",
       " 'access',\n",
       " 'search',\n",
       " 'mit',\n",
       " 'csail',\n",
       " 'massachuset',\n",
       " 'institut',\n",
       " 'of',\n",
       " 'technolog',\n",
       " 'comput',\n",
       " 'sci',\n",
       " '&',\n",
       " 'art',\n",
       " 'intellig',\n",
       " 'lab',\n",
       " '32',\n",
       " 'vass',\n",
       " 'st',\n",
       " ',',\n",
       " 'cambridg',\n",
       " 'ma',\n",
       " '02139',\n",
       " 'contact',\n",
       " 'press',\n",
       " 'request',\n",
       " 'access']"
      ]
     },
     "execution_count": 27,
     "metadata": {},
     "output_type": "execute_result"
    }
   ],
   "source": [
    "lancasterstemmer = LancasterStemmer()\n",
    "stemmed = [lancasterstemmer.stem(token) for token in new_tokens]\n",
    "stemmed"
   ]
  },
  {
   "cell_type": "code",
   "execution_count": 2,
   "metadata": {},
   "outputs": [],
   "source": [
    "# words like 'symposia' and 'student' are nearly unrecognisable in the Lancaster stemming, which can cause a lot of loss of context!\n",
    "# on the other hand, Porter stemming keeps majority of the word intact, that can lead to a better real world language model :)"
   ]
  },
  {
   "cell_type": "markdown",
   "metadata": {},
   "source": [
    "---"
   ]
  },
  {
   "cell_type": "markdown",
   "metadata": {},
   "source": [
    "**Q6) For this question, assume you have a shy friend who is hesitating to tell you something...**\n",
    "\n",
    "1. (a)[Z|z][a-zA-Z]*[a]\n",
    "\n",
    "(b) 3\n",
    "\n",
    "(c) Zalima or zalima\n",
    "\n",
    "\n",
    "\n",
    "2. (a) \\d[k][a-z]*\\d\n",
    "\n",
    "(b) 1kacokaco1\n",
    "\n",
    "(c) coca\n",
    "\n",
    "\n",
    "\n",
    "3. (a) \\bc[a-z]\\[a-z]+a\\b\n",
    "\n",
    "(b) co*la \n",
    "\n",
    "(c) cola\n",
    "\n",
    "\n",
    "4. (a) \\b[P|p][a-z]{2}a\\b\n",
    "\n",
    "(b) 2 \n",
    "\n",
    "(c) Pila or pila\n",
    "\n",
    "\n",
    "5. 'zalima [Zalima] coca cola pila de'"
   ]
  },
  {
   "cell_type": "markdown",
   "metadata": {},
   "source": [
    "---"
   ]
  }
 ],
 "metadata": {
  "kernelspec": {
   "display_name": "base",
   "language": "python",
   "name": "python3"
  },
  "language_info": {
   "codemirror_mode": {
    "name": "ipython",
    "version": 3
   },
   "file_extension": ".py",
   "mimetype": "text/x-python",
   "name": "python",
   "nbconvert_exporter": "python",
   "pygments_lexer": "ipython3",
   "version": "3.11.4"
  }
 },
 "nbformat": 4,
 "nbformat_minor": 2
}
